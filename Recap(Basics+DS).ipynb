{
 "cells": [
  {
   "cell_type": "code",
   "execution_count": 2,
   "metadata": {},
   "outputs": [
    {
     "name": "stdout",
     "output_type": "stream",
     "text": [
      "Python Version\n",
      "3.11.6 (tags/v3.11.6:8b6ee5b, Oct  2 2023, 14:57:12) [MSC v.1935 64 bit (AMD64)]\n",
      "sys.version_info(major=3, minor=11, micro=6, releaselevel='final', serial=0)\n"
     ]
    }
   ],
   "source": [
    "import sys \n",
    "print(\"Python Version\")\n",
    "print(sys.version)\n",
    "print(sys.version_info)"
   ]
  },
  {
   "cell_type": "code",
   "execution_count": 3,
   "metadata": {},
   "outputs": [
    {
     "name": "stdout",
     "output_type": "stream",
     "text": [
      "Current date and time:\n",
      "2024-02-02 15:05:13\n",
      "2024-02-02 03:05:13\n"
     ]
    }
   ],
   "source": [
    "import datetime\n",
    "current=datetime.datetime.now()\n",
    "print(\"Current date and time:\")\n",
    "print(current.strftime(\"%Y-%m-%d %H:%M:%S\"))\n",
    "print(current.strftime(\"%Y-%m-%d %I:%M:%S\"))"
   ]
  },
  {
   "cell_type": "code",
   "execution_count": 4,
   "metadata": {},
   "outputs": [
    {
     "name": "stdout",
     "output_type": "stream",
     "text": [
      "Mymuna Rahman\n",
      "Rahman Mymuna\n",
      "anumyM namhaR\n",
      "auy nma\n"
     ]
    }
   ],
   "source": [
    "first=\"Mymuna\"\n",
    "last=\"Rahman\"\n",
    "print(first,last)\n",
    "print(last,first)\n",
    "print(first[::-1],last[::-1])\n",
    "print(first[::-2],last[::-2])"
   ]
  },
  {
   "cell_type": "code",
   "execution_count": 5,
   "metadata": {},
   "outputs": [
    {
     "name": "stdout",
     "output_type": "stream",
     "text": [
      "My name is Mymuna\n",
      "17\n",
      "a\n",
      "a\n",
      "97\n"
     ]
    }
   ],
   "source": [
    "x = \"My name is Mymuna\"\n",
    "print(x)\n",
    "print(len(x))\n",
    "print(x[len(x)-1]) #positive index\n",
    "print(x[-1])\n",
    "print(ord(x[-1]))"
   ]
  },
  {
   "cell_type": "code",
   "execution_count": 6,
   "metadata": {},
   "outputs": [],
   "source": [
    "class Node:\n",
    "    def __init__(self, data):\n",
    "        self.data=data\n",
    "        self.next=None\n",
    "\n",
    "class SLL:\n",
    "    def __init__(self):\n",
    "        self.head=None\n",
    "        self.size=0\n",
    "\n",
    "    def append(self, value):\n",
    "        if self.head==None:\n",
    "            newnode=Node(value)\n",
    "            self.head=newnode\n",
    "        else:\n",
    "            current=self.head\n",
    "            while current.next:\n",
    "                current=current.next\n",
    "            newnode=Node(value)\n",
    "            current.next=newnode\n",
    "\n",
    "    def printlist(self):\n",
    "        if self.head==None:\n",
    "            print(\"List is empty.\")\n",
    "        else:\n",
    "            current=self.head\n",
    "            while current:\n",
    "                print(current.data, end='->')\n",
    "                current=current.next\n",
    "\n",
    "    def numOfOccurences(self, value):\n",
    "        count=0\n",
    "        if self.head==None:\n",
    "            print(\"List is empty.\")\n",
    "        else:\n",
    "            current=self.head\n",
    "            while current:\n",
    "                if current.data==value:\n",
    "                    count+=1\n",
    "                current=current.next\n",
    "            return count"
   ]
  },
  {
   "cell_type": "code",
   "execution_count": 7,
   "metadata": {},
   "outputs": [
    {
     "name": "stdout",
     "output_type": "stream",
     "text": [
      "1->3->3->3->6->13->13->36->"
     ]
    },
    {
     "data": {
      "text/plain": [
       "3"
      ]
     },
     "execution_count": 7,
     "metadata": {},
     "output_type": "execute_result"
    }
   ],
   "source": [
    "s=SLL()\n",
    "s.append(1)\n",
    "s.append(3)\n",
    "s.append(3)\n",
    "s.append(3)\n",
    "s.append(6)\n",
    "s.append(13)\n",
    "s.append(13)\n",
    "s.append(36)\n",
    "s.printlist()\n",
    "s.numOfOccurences(3)"
   ]
  },
  {
   "cell_type": "code",
   "execution_count": 23,
   "metadata": {},
   "outputs": [
    {
     "name": "stdout",
     "output_type": "stream",
     "text": [
      "False\n",
      "True\n",
      "True\n",
      "False\n",
      "True\n"
     ]
    }
   ],
   "source": [
    "def isPrime(n): # a number that divides by 1 and itself.\n",
    "    if n==2:\n",
    "        return True\n",
    "\n",
    "    for i in range(2,n):\n",
    "        if n%i==0:\n",
    "            return False\n",
    "        \n",
    "     return True\n",
    "print(isPrime(6))\n",
    "print(isPrime(11))\n",
    "print(isPrime(2))\n",
    "print(isPrime(8))\n",
    "print(isPrime(65))"
   ]
  },
  {
   "cell_type": "code",
   "execution_count": 28,
   "metadata": {},
   "outputs": [
    {
     "data": {
      "text/plain": [
       "13"
      ]
     },
     "execution_count": 28,
     "metadata": {},
     "output_type": "execute_result"
    }
   ],
   "source": [
    "def digitCount(n): #converting to string\n",
    "    string=str(n)\n",
    "    length=len(string)\n",
    "\n",
    "    return length\n",
    "\n",
    "digitCount(1234589799787)"
   ]
  },
  {
   "cell_type": "code",
   "execution_count": 36,
   "metadata": {},
   "outputs": [
    {
     "data": {
      "text/plain": [
       "6"
      ]
     },
     "execution_count": 36,
     "metadata": {},
     "output_type": "execute_result"
    }
   ],
   "source": [
    "def digitCount2(n): #extracting last digit\n",
    "    count=0\n",
    "    \n",
    "    while n:\n",
    "        n//=10\n",
    "        count+=1\n",
    "    return count \n",
    "\n",
    "digitCount2(123456)"
   ]
  },
  {
   "cell_type": "code",
   "execution_count": 41,
   "metadata": {},
   "outputs": [
    {
     "data": {
      "text/plain": [
       "4321"
      ]
     },
     "execution_count": 41,
     "metadata": {},
     "output_type": "execute_result"
    }
   ],
   "source": [
    "def reverse(n):  \n",
    "    rev=0 \n",
    "    while n:\n",
    "        dig=n%10 \n",
    "        rev=(rev*10)+dig\n",
    "        n//=10\n",
    "    return rev\n",
    "        \n",
    "reverse(1234)"
   ]
  },
  {
   "cell_type": "code",
   "execution_count": 2,
   "metadata": {},
   "outputs": [
    {
     "name": "stdout",
     "output_type": "stream",
     "text": [
      "[1, 2, 3, 4, 5]\n"
     ]
    }
   ],
   "source": [
    "class Stack:\n",
    "    def __init__(self):\n",
    "        self.data=[]\n",
    "    def isEmpty(self):\n",
    "        return len(self.data)==0\n",
    "    def push(self,val):\n",
    "        self.data.append(val)\n",
    "    def pop(self):\n",
    "        if self.isEmpty():\n",
    "            print('Stack is empty.')\n",
    "        else:\n",
    "            self.data.pop()\n",
    "    def peek(self):\n",
    "        if self.isEmpty():\n",
    "            print('Stack is empty.')\n",
    "        else:\n",
    "            return self.data[-1]\n",
    "    def printStack(self):\n",
    "        if self.isEmpty():\n",
    "            print('Stack is empty.')\n",
    "        else:\n",
    "            print(self.data)\n",
    "\n",
    "stack1=Stack()\n",
    "stack1.push(1)\n",
    "stack1.push(2)\n",
    "stack1.push(3)\n",
    "stack1.push(4)\n",
    "stack1.push(5)\n",
    "stack1.printStack()\n"
   ]
  }
 ],
 "metadata": {
  "kernelspec": {
   "display_name": "Python 3",
   "language": "python",
   "name": "python3"
  },
  "language_info": {
   "codemirror_mode": {
    "name": "ipython",
    "version": 3
   },
   "file_extension": ".py",
   "mimetype": "text/x-python",
   "name": "python",
   "nbconvert_exporter": "python",
   "pygments_lexer": "ipython3",
   "version": "3.11.6"
  }
 },
 "nbformat": 4,
 "nbformat_minor": 2
}
