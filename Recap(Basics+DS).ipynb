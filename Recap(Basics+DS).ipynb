{
 "cells": [
  {
   "cell_type": "code",
   "execution_count": 9,
   "metadata": {},
   "outputs": [
    {
     "name": "stdout",
     "output_type": "stream",
     "text": [
      "Python Version\n",
      "3.11.6 (tags/v3.11.6:8b6ee5b, Oct  2 2023, 14:57:12) [MSC v.1935 64 bit (AMD64)]\n",
      "sys.version_info(major=3, minor=11, micro=6, releaselevel='final', serial=0)\n"
     ]
    }
   ],
   "source": [
    "import sys \n",
    "print(\"Python Version\")\n",
    "print(sys.version)\n",
    "print(sys.version_info)"
   ]
  },
  {
   "cell_type": "code",
   "execution_count": 18,
   "metadata": {},
   "outputs": [
    {
     "name": "stdout",
     "output_type": "stream",
     "text": [
      "Current date and time:\n",
      "2024-01-26 19:53:31\n",
      "2024-01-26 07:53:31\n"
     ]
    }
   ],
   "source": [
    "import datetime\n",
    "current=datetime.datetime.now()\n",
    "print(\"Current date and time:\")\n",
    "print(current.strftime(\"%Y-%m-%d %H:%M:%S\"))\n",
    "print(current.strftime(\"%Y-%m-%d %I:%M:%S\"))"
   ]
  },
  {
   "cell_type": "code",
   "execution_count": 35,
   "metadata": {},
   "outputs": [
    {
     "name": "stdout",
     "output_type": "stream",
     "text": [
      "Mymuna Rahman\n",
      "Rahman Mymuna\n",
      "anumyM namhaR\n",
      "auy nma\n"
     ]
    }
   ],
   "source": [
    "first=\"Mymuna\"\n",
    "last=\"Rahman\"\n",
    "print(first,last)\n",
    "print(last,first)\n",
    "print(first[::-1],last[::-1])\n",
    "print(first[::-2],last[::-2])"
   ]
  },
  {
   "cell_type": "code",
   "execution_count": 15,
   "metadata": {},
   "outputs": [
    {
     "name": "stdout",
     "output_type": "stream",
     "text": [
      "My name is Mymuna\n",
      "17\n",
      "a\n",
      "a\n",
      "97\n"
     ]
    }
   ],
   "source": [
    "x = \"My name is Mymuna\"\n",
    "print(x)\n",
    "print(len(x))\n",
    "print(x[len(x)-1]) #positive index\n",
    "print(x[-1])\n",
    "print(ord(x[-1]))"
   ]
  },
  {
   "cell_type": "code",
   "execution_count": null,
   "metadata": {},
   "outputs": [],
   "source": [
    "class Node:\n",
    "    def __init__(self, data):\n",
    "        self.data=data\n",
    "        self.next=None\n",
    "\n",
    "class SLL:\n",
    "    def __init__(self, head):\n",
    "        self.head=head\n",
    "        \n"
   ]
  }
 ],
 "metadata": {
  "kernelspec": {
   "display_name": "Python 3",
   "language": "python",
   "name": "python3"
  },
  "language_info": {
   "codemirror_mode": {
    "name": "ipython",
    "version": 3
   },
   "file_extension": ".py",
   "mimetype": "text/x-python",
   "name": "python",
   "nbconvert_exporter": "python",
   "pygments_lexer": "ipython3",
   "version": "3.11.6"
  }
 },
 "nbformat": 4,
 "nbformat_minor": 2
}
