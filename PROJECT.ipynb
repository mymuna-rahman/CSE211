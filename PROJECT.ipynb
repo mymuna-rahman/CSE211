{
 "cells": [
  {
   "cell_type": "markdown",
   "metadata": {},
   "source": [
    "General Code "
   ]
  },
  {
   "cell_type": "code",
   "execution_count": 13,
   "metadata": {},
   "outputs": [
    {
     "name": "stdout",
     "output_type": "stream",
     "text": [
      "[2, 24, 45, 66, 75, 90, 170, 802]\n"
     ]
    }
   ],
   "source": [
    "def bucket_sort(arr, digit_index):\n",
    "    buckets = [[] for _ in range(10)]  #10 possible digits (0-9)\n",
    "\n",
    "    for num in arr:\n",
    "        digit = (num // (10 ** digit_index)) % 10\n",
    "        buckets[digit].append(num)\n",
    "\n",
    "    sorted_arr = []\n",
    "    for bucket in buckets:\n",
    "        sorted_arr+=bucket\n",
    "\n",
    "    return sorted_arr\n",
    "\n",
    "def radix_sort(arr):\n",
    "    max_num = max(arr)\n",
    "    max_digits = len(str(max_num))\n",
    "\n",
    "    for i in range(max_digits):\n",
    "        arr = bucket_sort(arr, i)\n",
    "\n",
    "    return arr\n",
    "\n",
    "arr = [170, 45, 75, 90, 802, 24, 2, 66]\n",
    "sorted_arr = radix_sort(arr)\n",
    "print(sorted_arr)\n"
   ]
  },
  {
   "cell_type": "markdown",
   "metadata": {},
   "source": [
    "Code for sorting IP addresses "
   ]
  },
  {
   "cell_type": "code",
   "execution_count": 18,
   "metadata": {},
   "outputs": [
    {
     "name": "stdout",
     "output_type": "stream",
     "text": [
      "['10.0.0.1', '172.16.254.1', '192.168.1.1', '192.168.1.10']\n"
     ]
    }
   ],
   "source": [
    "def bucket_sort_ips(arr, octet_index):\n",
    "    buckets = [[] for _ in range(256)]  #Possible values of octet (0-255)\n",
    "\n",
    "    for ip in arr:\n",
    "        octet = int(ip.split('.')[octet_index])\n",
    "        buckets[octet].append(ip)\n",
    "\n",
    "    sorted_ips = []\n",
    "    for bucket in buckets:\n",
    "        sorted_ips+=bucket\n",
    "\n",
    "    return sorted_ips\n",
    "\n",
    "def radix_sort_ips(arr):\n",
    "    for i in range(3, -1, -1):\n",
    "        arr = bucket_sort_ips(arr, i)\n",
    "\n",
    "    return arr\n",
    "\n",
    "ips = [\"192.168.1.10\", \"10.0.0.1\", \"172.16.254.1\", \"192.168.1.1\"]\n",
    "sorted_ips = radix_sort_ips(ips)\n",
    "print(sorted_ips)\n"
   ]
  },
  {
   "cell_type": "code",
   "execution_count": 15,
   "metadata": {},
   "outputs": [
    {
     "name": "stdout",
     "output_type": "stream",
     "text": [
      "Execution time: 0.003920316696166992\n"
     ]
    }
   ],
   "source": [
    "import time\n",
    "\n",
    "start_time = time.time()\n",
    "sorted_ips = radix_sort_ips(ips)\n",
    "end_time = time.time()\n",
    "\n",
    "execution_time = end_time - start_time\n",
    "print(\"Execution time:\", execution_time)\n"
   ]
  }
 ],
 "metadata": {
  "kernelspec": {
   "display_name": "Python 3",
   "language": "python",
   "name": "python3"
  },
  "language_info": {
   "codemirror_mode": {
    "name": "ipython",
    "version": 3
   },
   "file_extension": ".py",
   "mimetype": "text/x-python",
   "name": "python",
   "nbconvert_exporter": "python",
   "pygments_lexer": "ipython3",
   "version": "3.11.9"
  }
 },
 "nbformat": 4,
 "nbformat_minor": 2
}
