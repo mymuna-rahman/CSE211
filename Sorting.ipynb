{
 "cells": [
  {
   "cell_type": "markdown",
   "metadata": {},
   "source": [
    "BUBBLE SORT"
   ]
  },
  {
   "cell_type": "code",
   "execution_count": 6,
   "metadata": {},
   "outputs": [
    {
     "name": "stdout",
     "output_type": "stream",
     "text": [
      "[5, 6, 11, 12, 13]\n"
     ]
    }
   ],
   "source": [
    "def bubbleSort(arr):\n",
    "    n=len(arr)\n",
    "\n",
    "    for i in range(n):\n",
    "        for j in range(n-i-1):\n",
    "            if arr[j+1]<arr[j]:\n",
    "                arr[j], arr[j+1] = arr[j+1], arr[j]\n",
    "                \n",
    "\n",
    "arr=[12, 11, 13, 5, 6]\n",
    "bubbleSort(arr)\n",
    "print(arr)"
   ]
  },
  {
   "cell_type": "markdown",
   "metadata": {},
   "source": [
    "INSERTION SORT"
   ]
  },
  {
   "cell_type": "code",
   "execution_count": 2,
   "metadata": {},
   "outputs": [
    {
     "name": "stdout",
     "output_type": "stream",
     "text": [
      "[5, 6, 11, 12, 13]\n"
     ]
    }
   ],
   "source": [
    "def insertionSort(arr):\n",
    "    n=len(arr)\n",
    "\n",
    "    for i in range(1,n):\n",
    "        key=arr[i]\n",
    "\n",
    "        j=i-1\n",
    "        while j>=0 and key<arr[j]:\n",
    "            arr[j+1]=arr[j]\n",
    "            j-=1             \n",
    "\n",
    "        arr[j+1]=key\n",
    "\n",
    "arr=[12, 11, 13, 5, 6]\n",
    "insertionSort(arr)\n",
    "print(arr)\n",
    " "
   ]
  },
  {
   "cell_type": "code",
   "execution_count": 4,
   "metadata": {},
   "outputs": [
    {
     "data": {
      "text/plain": [
       "8"
      ]
     },
     "execution_count": 4,
     "metadata": {},
     "output_type": "execute_result"
    }
   ],
   "source": [
    "def power_binary_exponentiation_dac(a, n):\n",
    "    \"\"\"\n",
    "    Compute the power of a number using a divide and conquer strategy.\n",
    "\n",
    "    Parameters:\n",
    "    a (float): Base number.\n",
    "    n (int): Exponent. It should be a non-negative integer.\n",
    "\n",
    "    Returns:\n",
    "    result (float): The result of a^n.\n",
    "    \"\"\"\n",
    "    # Base case: a^0 is always 1\n",
    "    if n == 0:\n",
    "        return 1\n",
    "\n",
    "    half_power = power_binary_exponentiation_dac(a, n // 2)\n",
    "\n",
    "    if n % 2 == 0:\n",
    "\n",
    "        return half_power * half_power\n",
    "\n",
    "    else:\n",
    "        return a * half_power * half_power\n",
    "\n",
    "power_binary_exponentiation_dac(2,3)"
   ]
  }
 ],
 "metadata": {
  "kernelspec": {
   "display_name": "Python 3",
   "language": "python",
   "name": "python3"
  },
  "language_info": {
   "codemirror_mode": {
    "name": "ipython",
    "version": 3
   },
   "file_extension": ".py",
   "mimetype": "text/x-python",
   "name": "python",
   "nbconvert_exporter": "python",
   "pygments_lexer": "ipython3",
   "version": "3.11.8"
  }
 },
 "nbformat": 4,
 "nbformat_minor": 2
}
