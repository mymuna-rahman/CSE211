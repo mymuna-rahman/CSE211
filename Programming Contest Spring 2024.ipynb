{
 "cells": [
  {
   "cell_type": "code",
   "execution_count": 17,
   "metadata": {},
   "outputs": [
    {
     "name": "stdout",
     "output_type": "stream",
     "text": [
      "5\n"
     ]
    }
   ],
   "source": [
    "#A - Solve Me First\n",
    "\n",
    "a=int(input())\n",
    "b=int(input())\n",
    "\n",
    "sum=a+b\n",
    "print(sum)"
   ]
  },
  {
   "cell_type": "code",
   "execution_count": 1,
   "metadata": {},
   "outputs": [
    {
     "name": "stdout",
     "output_type": "stream",
     "text": [
      "1566\n"
     ]
    }
   ],
   "source": [
    "#B - A Very Big Sum\n",
    "\n",
    "n=int(input())\n",
    "array=list(map(int,input().split()))\n",
    "sumOfArr=sum(array)\n",
    "\n",
    "print(sumOfArr)"
   ]
  },
  {
   "cell_type": "code",
   "execution_count": 21,
   "metadata": {},
   "outputs": [
    {
     "name": "stdout",
     "output_type": "stream",
     "text": [
      "1\n"
     ]
    }
   ],
   "source": [
    "#C - Diagonal Difference\n",
    "\n",
    "n=int(input())\n",
    "matrix=[]\n",
    "\n",
    "for _ in range(n):\n",
    "    row=list(map(int, input().split()))\n",
    "    matrix.append(row)\n",
    "\n",
    "# for row in matrix:\n",
    "#     print(\" \".join(map(str, row)))\n",
    "\n",
    "primaryDiagonal=0\n",
    "secondaryDiagonal=0\n",
    "                 \n",
    "for i in range(n):\n",
    "    primaryDiagonal+=matrix[i][i]\n",
    "    secondaryDiagonal+=matrix[i][n-1-i]\n",
    "\n",
    "diff = abs(primaryDiagonal-secondaryDiagonal)\n",
    "print(diff)\n"
   ]
  },
  {
   "cell_type": "code",
   "execution_count": 26,
   "metadata": {},
   "outputs": [
    {
     "name": "stdout",
     "output_type": "stream",
     "text": [
      "0.500000\n",
      "0.333333\n",
      "0.166667\n"
     ]
    }
   ],
   "source": [
    "#D - Plus Minus\n",
    "\n",
    "n=int(input())\n",
    "array=list(map(int,input().split()))\n",
    "\n",
    "posCount=0\n",
    "negCount=0\n",
    "zeroCount=0\n",
    "\n",
    "for i in array:\n",
    "    if i<0:\n",
    "        negCount+=1\n",
    "    elif i>0:\n",
    "        posCount+=1\n",
    "    elif i==0:\n",
    "        zeroCount+=1\n",
    "\n",
    "posRatio=posCount/n\n",
    "negRatio=negCount/n\n",
    "zeroRatio=zeroCount/n\n",
    "\n",
    "\n",
    "print(\"{:.6f}\".format(posRatio))\n",
    "print(\"{:.6f}\".format(negRatio))\n",
    "print(\"{:.6f}\".format(zeroRatio))"
   ]
  },
  {
   "cell_type": "code",
   "execution_count": 9,
   "metadata": {},
   "outputs": [
    {
     "name": "stdout",
     "output_type": "stream",
     "text": [
      "     #\n",
      "    ##\n",
      "   ###\n",
      "  ####\n",
      " #####\n",
      "######\n"
     ]
    }
   ],
   "source": [
    "#E - Staircase\n",
    "\n",
    "n = int(input())\n",
    "\n",
    "for i in range(1, n + 1):\n",
    "    spaces = ' ' * (n - i)\n",
    "    hashtags = '#' * i\n",
    "    print(spaces + hashtags)\n",
    "\n",
    "\n",
    "\n"
   ]
  },
  {
   "cell_type": "code",
   "execution_count": 21,
   "metadata": {},
   "outputs": [
    {
     "name": "stdout",
     "output_type": "stream",
     "text": [
      "13 22\n"
     ]
    }
   ],
   "source": [
    "#F - Mini-Max Sum\n",
    "\n",
    "array=list(map(int, input().split()))\n",
    "sortedArr=sorted(array)\n",
    "#print(sortedArr)\n",
    "\n",
    "minSum=0\n",
    "maxSum=0\n",
    "for i in range(4):\n",
    "    minSum+=sortedArr[i]\n",
    "for j in range(1,5):\n",
    "    maxSum+=sortedArr[j]\n",
    "\n",
    "print(minSum, maxSum)"
   ]
  },
  {
   "cell_type": "code",
   "execution_count": 26,
   "metadata": {},
   "outputs": [
    {
     "name": "stdout",
     "output_type": "stream",
     "text": [
      "1\n"
     ]
    }
   ],
   "source": [
    "#G - Birthday Cake Candles\n",
    "\n",
    "age=int(input())\n",
    "candles=list(map(int, input().split()))\n",
    "\n",
    "sortedCand=sorted(candles)\n",
    "maxH=sortedCand[-1]\n",
    "\n",
    "count=0\n",
    "for i in sortedCand:\n",
    "    if i==maxH:\n",
    "        count+=1\n",
    "\n",
    "print(count)"
   ]
  },
  {
   "cell_type": "code",
   "execution_count": null,
   "metadata": {},
   "outputs": [],
   "source": [
    "#H - Time Conversion\n",
    "\n"
   ]
  },
  {
   "cell_type": "code",
   "execution_count": 25,
   "metadata": {},
   "outputs": [
    {
     "name": "stdout",
     "output_type": "stream",
     "text": [
      "75\n",
      "67\n",
      "40\n",
      "33\n"
     ]
    }
   ],
   "source": [
    "#I - Grading Students\n",
    "\n",
    "n = int(input())\n",
    "\n",
    "for _ in range(n):\n",
    "    score = int(input())\n",
    "    \n",
    "    if score < 38:\n",
    "        print(score)\n",
    "    elif score >= 38:\n",
    "        next_multiple_of_5 = ((score // 5) + 1) * 5\n",
    "        if next_multiple_of_5 - score < 3:\n",
    "            print(next_multiple_of_5)\n",
    "        else:\n",
    "            print(score)\n"
   ]
  },
  {
   "cell_type": "code",
   "execution_count": 10,
   "metadata": {},
   "outputs": [
    {
     "name": "stdout",
     "output_type": "stream",
     "text": [
      "5\n"
     ]
    }
   ],
   "source": [
    "#J - Divisible Sum Pairs\n",
    "\n",
    "n, k = map(int, input().split())\n",
    "unsortedArr = list(map(int, input().split()))\n",
    "arr = sorted(unsortedArr)\n",
    "\n",
    "count=0\n",
    "i=0\n",
    "\n",
    "while i<n:\n",
    "    j=i+1\n",
    "    while j<n:\n",
    "        if (arr[i]+arr[j]) % k==0:\n",
    "            count+=1\n",
    "        j+=1\n",
    "    i+=1\n",
    "\n",
    "print(count)\n"
   ]
  },
  {
   "cell_type": "code",
   "execution_count": 9,
   "metadata": {},
   "outputs": [
    {
     "name": "stdout",
     "output_type": "stream",
     "text": [
      "[1, 2, 3, 4, 5, 4, 3, 2, 1, 3, 4]\n",
      "3\n"
     ]
    }
   ],
   "source": [
    "#K - Migratory Birds\n",
    "n=int(input())\n",
    "sightings=list(map(int, input().split()))\n",
    "\n",
    "birdCount={}\n",
    "maxCount=0\n",
    "frequent=sightings[0]\n",
    "\n",
    "for bird in sightings:\n",
    "    if bird in birdCount:\n",
    "        birdCount[bird]+=1\n",
    "    else:\n",
    "        birdCount[bird]=1\n",
    "\n",
    "    if birdCount[bird] > birdCount[frequent] or (birdCount[bird]==birdCount[frequent] and bird < frequent):\n",
    "        frequent=bird\n",
    "\n",
    "\n",
    "# print(sightings)\n",
    "print(frequent)"
   ]
  },
  {
   "cell_type": "code",
   "execution_count": null,
   "metadata": {},
   "outputs": [],
   "source": [
    "#L - Day of the Programmer\n"
   ]
  },
  {
   "cell_type": "code",
   "execution_count": null,
   "metadata": {},
   "outputs": [],
   "source": [
    "#M - Drawing Book\n"
   ]
  },
  {
   "cell_type": "code",
   "execution_count": null,
   "metadata": {},
   "outputs": [],
   "source": [
    "#N - Electronics Shop\n"
   ]
  },
  {
   "cell_type": "code",
   "execution_count": null,
   "metadata": {},
   "outputs": [],
   "source": [
    "#O - Picking Numbers\n"
   ]
  },
  {
   "cell_type": "code",
   "execution_count": null,
   "metadata": {},
   "outputs": [],
   "source": [
    "#P - The Hurdle Race\n"
   ]
  }
 ],
 "metadata": {
  "kernelspec": {
   "display_name": "Python 3",
   "language": "python",
   "name": "python3"
  },
  "language_info": {
   "codemirror_mode": {
    "name": "ipython",
    "version": 3
   },
   "file_extension": ".py",
   "mimetype": "text/x-python",
   "name": "python",
   "nbconvert_exporter": "python",
   "pygments_lexer": "ipython3",
   "version": "3.11.6"
  }
 },
 "nbformat": 4,
 "nbformat_minor": 2
}
