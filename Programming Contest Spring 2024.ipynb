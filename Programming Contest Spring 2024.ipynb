{
 "cells": [
  {
   "cell_type": "code",
   "execution_count": 17,
   "metadata": {},
   "outputs": [
    {
     "name": "stdout",
     "output_type": "stream",
     "text": [
      "5\n"
     ]
    }
   ],
   "source": [
    "#A - Solve Me First\n",
    "\n",
    "a=int(input())\n",
    "b=int(input())\n",
    "\n",
    "sum=a+b\n",
    "print(sum)"
   ]
  },
  {
   "cell_type": "code",
   "execution_count": 1,
   "metadata": {},
   "outputs": [
    {
     "name": "stdout",
     "output_type": "stream",
     "text": [
      "1566\n"
     ]
    }
   ],
   "source": [
    "#B - A Very Big Sum\n",
    "\n",
    "n=int(input())\n",
    "array=list(map(int,input().split()))\n",
    "sumOfArr=sum(array)\n",
    "\n",
    "print(sumOfArr)"
   ]
  },
  {
   "cell_type": "code",
   "execution_count": 21,
   "metadata": {},
   "outputs": [
    {
     "name": "stdout",
     "output_type": "stream",
     "text": [
      "1\n"
     ]
    }
   ],
   "source": [
    "#C - Diagonal Difference\n",
    "\n",
    "n=int(input())\n",
    "matrix=[]\n",
    "\n",
    "for _ in range(n):\n",
    "    row=list(map(int, input().split()))\n",
    "    matrix.append(row)\n",
    "\n",
    "# for row in matrix:\n",
    "#     print(\" \".join(map(str, row)))\n",
    "\n",
    "primaryDiagonal=0\n",
    "secondaryDiagonal=0\n",
    "                 \n",
    "for i in range(n):\n",
    "    primaryDiagonal+=matrix[i][i]\n",
    "    secondaryDiagonal+=matrix[i][n-1-i]\n",
    "\n",
    "diff = abs(primaryDiagonal-secondaryDiagonal)\n",
    "print(diff)\n"
   ]
  },
  {
   "cell_type": "code",
   "execution_count": 26,
   "metadata": {},
   "outputs": [
    {
     "name": "stdout",
     "output_type": "stream",
     "text": [
      "0.500000\n",
      "0.333333\n",
      "0.166667\n"
     ]
    }
   ],
   "source": [
    "#D - Plus Minus\n",
    "\n",
    "n=int(input())\n",
    "array=list(map(int,input().split()))\n",
    "\n",
    "posCount=0\n",
    "negCount=0\n",
    "zeroCount=0\n",
    "\n",
    "for i in array:\n",
    "    if i<0:\n",
    "        negCount+=1\n",
    "    elif i>0:\n",
    "        posCount+=1\n",
    "    elif i==0:\n",
    "        zeroCount+=1\n",
    "\n",
    "posRatio=posCount/n\n",
    "negRatio=negCount/n\n",
    "zeroRatio=zeroCount/n\n",
    "\n",
    "\n",
    "print(\"{:.6f}\".format(posRatio))\n",
    "print(\"{:.6f}\".format(negRatio))\n",
    "print(\"{:.6f}\".format(zeroRatio))"
   ]
  },
  {
   "cell_type": "code",
   "execution_count": 9,
   "metadata": {},
   "outputs": [
    {
     "name": "stdout",
     "output_type": "stream",
     "text": [
      "     #\n",
      "    ##\n",
      "   ###\n",
      "  ####\n",
      " #####\n",
      "######\n"
     ]
    }
   ],
   "source": [
    "#E - Staircase\n",
    "\n",
    "n = int(input())\n",
    "\n",
    "for i in range(1, n + 1):\n",
    "    spaces = ' ' * (n - i)\n",
    "    hashtags = '#' * i\n",
    "    print(spaces + hashtags)\n",
    "\n",
    "\n",
    "\n"
   ]
  },
  {
   "cell_type": "code",
   "execution_count": 21,
   "metadata": {},
   "outputs": [
    {
     "name": "stdout",
     "output_type": "stream",
     "text": [
      "13 22\n"
     ]
    }
   ],
   "source": [
    "#F - Mini-Max Sum\n",
    "\n",
    "array=list(map(int, input().split()))\n",
    "sortedArr=sorted(array)\n",
    "#print(sortedArr)\n",
    "\n",
    "minSum=0\n",
    "maxSum=0\n",
    "for i in range(4):\n",
    "    minSum+=sortedArr[i]\n",
    "for j in range(1,5):\n",
    "    maxSum+=sortedArr[j]\n",
    "\n",
    "print(minSum, maxSum)"
   ]
  },
  {
   "cell_type": "code",
   "execution_count": 26,
   "metadata": {},
   "outputs": [
    {
     "name": "stdout",
     "output_type": "stream",
     "text": [
      "1\n"
     ]
    }
   ],
   "source": [
    "#G - Birthday Cake Candles\n",
    "\n",
    "age=int(input())\n",
    "candles=list(map(int, input().split()))\n",
    "\n",
    "sortedCand=sorted(candles)\n",
    "maxH=sortedCand[-1]\n",
    "\n",
    "count=0\n",
    "for i in sortedCand:\n",
    "    if i==maxH:\n",
    "        count+=1\n",
    "\n",
    "print(count)"
   ]
  },
  {
   "cell_type": "code",
   "execution_count": null,
   "metadata": {},
   "outputs": [],
   "source": [
    "#H - Time Conversion\n",
    "\n"
   ]
  },
  {
   "cell_type": "code",
   "execution_count": 25,
   "metadata": {},
   "outputs": [
    {
     "name": "stdout",
     "output_type": "stream",
     "text": [
      "75\n",
      "67\n",
      "40\n",
      "33\n"
     ]
    }
   ],
   "source": [
    "#I - Grading Students\n",
    "\n",
    "n = int(input())\n",
    "\n",
    "for _ in range(n):\n",
    "    score = int(input())\n",
    "    \n",
    "    if score < 38:\n",
    "        print(score)\n",
    "    elif score >= 38:\n",
    "        next_multiple_of_5 = ((score // 5) + 1) * 5\n",
    "        if next_multiple_of_5 - score < 3:\n",
    "            print(next_multiple_of_5)\n",
    "        else:\n",
    "            print(score)\n"
   ]
  },
  {
   "cell_type": "code",
   "execution_count": 10,
   "metadata": {},
   "outputs": [
    {
     "name": "stdout",
     "output_type": "stream",
     "text": [
      "5\n"
     ]
    }
   ],
   "source": [
    "#J - Divisible Sum Pairs\n",
    "\n",
    "n, k = map(int, input().split())\n",
    "unsortedArr = list(map(int, input().split()))\n",
    "arr = sorted(unsortedArr)\n",
    "\n",
    "count=0\n",
    "i=0\n",
    "\n",
    "while i<n:\n",
    "    j=i+1\n",
    "    while j<n:\n",
    "        if (arr[i]+arr[j]) % k==0:\n",
    "            count+=1\n",
    "        j+=1\n",
    "    i+=1\n",
    "\n",
    "print(count)\n"
   ]
  },
  {
   "cell_type": "code",
   "execution_count": 10,
   "metadata": {},
   "outputs": [
    {
     "name": "stdout",
     "output_type": "stream",
     "text": [
      "4\n"
     ]
    }
   ],
   "source": [
    "#K - Migratory Birds\n",
    "\n",
    "n=int(input())\n",
    "sightings=list(map(int, input().split()))\n",
    "\n",
    "birdCount={}\n",
    "frequent=sightings[0]\n",
    "\n",
    "for bird in sightings:\n",
    "    if bird in birdCount:\n",
    "        birdCount[bird]+=1\n",
    "    else:\n",
    "        birdCount[bird]=1\n",
    "\n",
    "    if birdCount[bird] > birdCount[frequent] or (birdCount[bird]==birdCount[frequent] and bird < frequent):\n",
    "        frequent=bird\n",
    "\n",
    "\n",
    "# print(sightings)\n",
    "print(frequent)"
   ]
  },
  {
   "cell_type": "code",
   "execution_count": 19,
   "metadata": {},
   "outputs": [
    {
     "name": "stdout",
     "output_type": "stream",
     "text": [
      "13.09.1709\n"
     ]
    }
   ],
   "source": [
    "#L - Day of the Programmer\n",
    "\n",
    "y=int(input())\n",
    "\n",
    "if y>=1700 and y<1918:\n",
    "    leap=y%4==0\n",
    "elif y>1918 and y<=2700:\n",
    "    leap=(y%400==0) or ((y%4==0) and (y%100!=0))\n",
    "\n",
    "if y==1918:\n",
    "    print(\"26.09.1918\")\n",
    "elif leap:\n",
    "    print(f\"12.09.{y}\")\n",
    "else:\n",
    "    print(f\"13.09.{y}\")"
   ]
  },
  {
   "cell_type": "markdown",
   "metadata": {},
   "source": []
  },
  {
   "cell_type": "code",
   "execution_count": 29,
   "metadata": {},
   "outputs": [
    {
     "name": "stdout",
     "output_type": "stream",
     "text": [
      "1\n"
     ]
    }
   ],
   "source": [
    "#M - Drawing Book\n",
    "\n",
    "n=int(input())\n",
    "p=int(input())\n",
    "\n",
    "turnFront=p//2\n",
    "\n",
    "if n%2==1:\n",
    "    turnBack=(n-p)//2\n",
    "else:\n",
    "    turnBack=(n-p+1)//2\n",
    "\n",
    "minTurn=min(turnFront,turnBack)\n",
    "print(minTurn)"
   ]
  },
  {
   "cell_type": "code",
   "execution_count": 14,
   "metadata": {},
   "outputs": [
    {
     "name": "stdout",
     "output_type": "stream",
     "text": [
      "9\n"
     ]
    }
   ],
   "source": [
    "#N - Electronics Shop\n",
    "\n",
    "def getMoneySpent(b, k, d):\n",
    "    possibilities=[]\n",
    "    \n",
    "    for i in range(len(k)):\n",
    "        for j in range(len(d)):\n",
    "            cost=k[i]+d[j]\n",
    "            if cost<=b:\n",
    "                possibilities.append(cost)\n",
    "    # return possibilities\n",
    "    if possibilities:\n",
    "        return max(possibilities)\n",
    "    else:\n",
    "        return -1\n",
    "\n",
    "b, n, m = map(int, input().split())\n",
    "keyboard_prices = list(map(int, input().split()))\n",
    "drive_prices = list(map(int, input().split()))\n",
    "\n",
    "result = getMoneySpent(b, keyboard_prices, drive_prices)\n",
    "print(result)"
   ]
  },
  {
   "cell_type": "code",
   "execution_count": 28,
   "metadata": {},
   "outputs": [
    {
     "name": "stdout",
     "output_type": "stream",
     "text": [
      "5\n"
     ]
    }
   ],
   "source": [
    "#O - Picking Numbers\n",
    "\n",
    "def pickingNumbers(arr): # 4 6 5 3 3 1 \n",
    "    arr.sort() # 1 3 3 4 5 6 \n",
    "    count=0\n",
    "    \n",
    "\n",
    "\n",
    "\n",
    "\n",
    "n = int(input())\n",
    "arr = list(map(int, input().split()))\n",
    "result = pickingNumbers(arr)\n",
    "print(result)\n",
    "\n"
   ]
  },
  {
   "cell_type": "code",
   "execution_count": 19,
   "metadata": {},
   "outputs": [
    {
     "name": "stdout",
     "output_type": "stream",
     "text": [
      "0\n"
     ]
    }
   ],
   "source": [
    "#P - The Hurdle Race\n",
    "\n",
    "def hurdleRace(k, heights):\n",
    "    maxH=0\n",
    "\n",
    "    for i in range(len(heights)):\n",
    "        if heights[i]>maxH:\n",
    "            maxH=heights[i]\n",
    "\n",
    "    if k>=maxH:\n",
    "        return 0\n",
    "\n",
    "    return maxH-k\n",
    "   \n",
    "\n",
    "n,k=map(int, input().split())\n",
    "heights=list(map(int, input().split()))\n",
    "print(hurdleRace(k, heights))\n"
   ]
  },
  {
   "attachments": {
    "image.png": {
     "image/png": "[encoded data removed]"
    }
   },
   "cell_type": "markdown",
   "metadata": {},
   "source": [
    "![image.png](attachment:image.png)"
   ]
  },
  {
   "cell_type": "code",
   "execution_count": 30,
   "metadata": {},
   "outputs": [
    {
     "name": "stdout",
     "output_type": "stream",
     "text": [
      "1\n",
      "2\n",
      "7\n"
     ]
    }
   ],
   "source": [
    "#Q - Utopian Tree\n",
    "\n",
    "def utopianTree(n):\n",
    "    h=1\n",
    "    for i in range(n):\n",
    "        if i%2==0:\n",
    "            h*=2\n",
    "        elif i%2!=0:\n",
    "            h+=1\n",
    "    return h\n",
    "\n",
    "t=int(input())\n",
    "for j in range(t):\n",
    "    n=int(input())\n",
    "    print(utopianTree(n))\n"
   ]
  },
  {
   "cell_type": "code",
   "execution_count": 5,
   "metadata": {},
   "outputs": [
    {
     "name": "stdout",
     "output_type": "stream",
     "text": [
      "YES\n",
      "NO\n"
     ]
    }
   ],
   "source": [
    "#R - Angry Professor\n",
    "\n",
    "t = int(input())\n",
    "for i in range(t):\n",
    "    n, k = map(int, input().split())\n",
    "    students = 0\n",
    "    arr = list(map(int, input().split()))\n",
    "    for j in arr:\n",
    "        if j <= 0:\n",
    "            students += 1\n",
    "    if students < k:\n",
    "        print(\"YES\")\n",
    "    else:\n",
    "        print(\"NO\")\n"
   ]
  },
  {
   "cell_type": "code",
   "execution_count": 1,
   "metadata": {},
   "outputs": [
    {
     "name": "stdout",
     "output_type": "stream",
     "text": [
      "2\n",
      "3\n"
     ]
    }
   ],
   "source": [
    "#S - Save the Prisoner!\n",
    "\n",
    "def saveThePrisoner(n,m,s):\n",
    "    r=m%n\n",
    "    if (r+s-1)%n==0:\n",
    "        return n \n",
    "    else:\n",
    "        return (r+s-1)%n\n",
    "\n",
    "t = int(input())\n",
    "for i in range(t):\n",
    "    n, m, s = map(int, input().split())\n",
    "    print(saveThePrisoner(n, m, s))"
   ]
  },
  {
   "cell_type": "code",
   "execution_count": 4,
   "metadata": {},
   "outputs": [
    {
     "name": "stdout",
     "output_type": "stream",
     "text": [
      "3\n"
     ]
    }
   ],
   "source": [
    "# #T - Circular Array Rotation\n",
    "\n",
    "# def circularArrayRotation(a, k, queries):\n",
    "#     n = len(a)\n",
    "\n",
    "#     for _ in range(k):\n",
    "#         a.append(a.pop(0))\n",
    "\n",
    "#     result = [a[i] for i in queries]\n",
    "\n",
    "#     return result\n",
    "\n",
    "# n, k, q = map(int, input().split())\n",
    "# a = list(map(int, input().split()))\n",
    "# queries = list(map(int, input().split()))\n",
    "\n",
    "# result = circularArrayRotation(a, k, queries)\n",
    "\n",
    "# for i in result:\n",
    "#     print(i)"
   ]
  },
  {
   "cell_type": "code",
   "execution_count": 6,
   "metadata": {},
   "outputs": [
    {
     "name": "stdout",
     "output_type": "stream",
     "text": [
      "4\n"
     ]
    }
   ],
   "source": [
    "#U - Jumping on the Clouds\n",
    "\n",
    "def jumpingOnClouds(c):\n",
    "    n = len(c)\n",
    "    jumps = 0\n",
    "    i = 0\n",
    "\n",
    "    while i < n - 1:\n",
    "        if i + 2 < n and c[i + 2] == 0:\n",
    "            i += 2\n",
    "        else:\n",
    "            i += 1\n",
    "        jumps += 1\n",
    "\n",
    "    return jumps\n",
    "\n",
    "n = int(input().strip())\n",
    "c = list(map(int, input().strip().split(' ')))\n",
    "result = jumpingOnClouds(c)\n",
    "print(result)"
   ]
  },
  {
   "cell_type": "code",
   "execution_count": 12,
   "metadata": {},
   "outputs": [
    {
     "name": "stdout",
     "output_type": "stream",
     "text": [
      "1\n",
      "3\n",
      "3\n",
      "5\n",
      "10\n",
      "31415926535897932384626433832795\n"
     ]
    }
   ],
   "source": [
    "#W - Big Sorting\n",
    "\n",
    "def bigSorting(unsorted):\n",
    "    return sorted(unsorted, key=int)\n",
    "\n",
    "n = int(input())\n",
    "unsorted = []\n",
    "\n",
    "for _ in range(n):\n",
    "    ele = input().strip()\n",
    "    unsorted.append(ele)\n",
    "\n",
    "result = bigSorting(unsorted)\n",
    "for i in result:\n",
    "    print(i)"
   ]
  }
 ],
 "metadata": {
  "kernelspec": {
   "display_name": "Python 3",
   "language": "python",
   "name": "python3"
  },
  "language_info": {
   "codemirror_mode": {
    "name": "ipython",
    "version": 3
   },
   "file_extension": ".py",
   "mimetype": "text/x-python",
   "name": "python",
   "nbconvert_exporter": "python",
   "pygments_lexer": "ipython3",
   "version": "3.11.8"
  }
 },
 "nbformat": 4,
 "nbformat_minor": 2
}
