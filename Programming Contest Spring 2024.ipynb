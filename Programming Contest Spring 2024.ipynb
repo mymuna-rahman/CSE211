{
 "cells": [
  {
   "cell_type": "code",
   "execution_count": 17,
   "metadata": {},
   "outputs": [
    {
     "name": "stdout",
     "output_type": "stream",
     "text": [
      "5\n"
     ]
    }
   ],
   "source": [
    "#A - Solve Me First\n",
    "\n",
    "a=int(input())\n",
    "b=int(input())\n",
    "\n",
    "sum=a+b\n",
    "print(sum)"
   ]
  },
  {
   "cell_type": "code",
   "execution_count": 1,
   "metadata": {},
   "outputs": [
    {
     "name": "stdout",
     "output_type": "stream",
     "text": [
      "1566\n"
     ]
    }
   ],
   "source": [
    "#B - A Very Big Sum\n",
    "\n",
    "n=int(input())\n",
    "array=list(map(int,input().split()))\n",
    "sumOfArr=sum(array)\n",
    "\n",
    "print(sumOfArr)"
   ]
  },
  {
   "cell_type": "code",
   "execution_count": 21,
   "metadata": {},
   "outputs": [
    {
     "name": "stdout",
     "output_type": "stream",
     "text": [
      "1\n"
     ]
    }
   ],
   "source": [
    "#C - Diagonal Difference\n",
    "\n",
    "n=int(input())\n",
    "matrix=[]\n",
    "\n",
    "for _ in range(n):\n",
    "    row=list(map(int, input().split()))\n",
    "    matrix.append(row)\n",
    "\n",
    "# for row in matrix:\n",
    "#     print(\" \".join(map(str, row)))\n",
    "\n",
    "primaryDiagonal=0\n",
    "secondaryDiagonal=0\n",
    "                 \n",
    "for i in range(n):\n",
    "    primaryDiagonal+=matrix[i][i]\n",
    "    secondaryDiagonal+=matrix[i][n-1-i]\n",
    "\n",
    "diff = abs(primaryDiagonal-secondaryDiagonal)\n",
    "print(diff)\n"
   ]
  },
  {
   "cell_type": "code",
   "execution_count": 26,
   "metadata": {},
   "outputs": [
    {
     "name": "stdout",
     "output_type": "stream",
     "text": [
      "0.500000\n",
      "0.333333\n",
      "0.166667\n"
     ]
    }
   ],
   "source": [
    "#D - Plus Minus\n",
    "\n",
    "n=int(input())\n",
    "array=list(map(int,input().split()))\n",
    "\n",
    "posCount=0\n",
    "negCount=0\n",
    "zeroCount=0\n",
    "\n",
    "for i in array:\n",
    "    if i<0:\n",
    "        negCount+=1\n",
    "    elif i>0:\n",
    "        posCount+=1\n",
    "    elif i==0:\n",
    "        zeroCount+=1\n",
    "\n",
    "posRatio=posCount/n\n",
    "negRatio=negCount/n\n",
    "zeroRatio=zeroCount/n\n",
    "\n",
    "\n",
    "print(\"{:.6f}\".format(posRatio))\n",
    "print(\"{:.6f}\".format(negRatio))\n",
    "print(\"{:.6f}\".format(zeroRatio))"
   ]
  },
  {
   "cell_type": "code",
   "execution_count": null,
   "metadata": {},
   "outputs": [],
   "source": [
    "#E - Staircase\n",
    "\n"
   ]
  }
 ],
 "metadata": {
  "kernelspec": {
   "display_name": "Python 3",
   "language": "python",
   "name": "python3"
  },
  "language_info": {
   "codemirror_mode": {
    "name": "ipython",
    "version": 3
   },
   "file_extension": ".py",
   "mimetype": "text/x-python",
   "name": "python",
   "nbconvert_exporter": "python",
   "pygments_lexer": "ipython3",
   "version": "3.11.6"
  }
 },
 "nbformat": 4,
 "nbformat_minor": 2
}
