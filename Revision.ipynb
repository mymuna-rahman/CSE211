{
 "cells": [
  {
   "cell_type": "markdown",
   "metadata": {},
   "source": [
    "Insertion Sort"
   ]
  },
  {
   "cell_type": "code",
   "execution_count": null,
   "metadata": {},
   "outputs": [],
   "source": [
    "def insertionSort(arr):\n",
    "    n=len(arr)\n",
    "\n",
    "    for j in range(1, n):\n",
    "        key=arr[j]\n",
    "\n",
    "        i=j-1\n",
    "        while i>=0 and key<arr[i]:\n",
    "            arr[i+1]=arr[i]\n",
    "            i-=1\n",
    "        arr[i+1]=key\n",
    "\n",
    "    return arr\n",
    "\n",
    "def findMax(arr):\n",
    "    insertionSort(arr)\n",
    "    return arr[-1]\n",
    "\n",
    "arr=[5,2,4,1,6,3]\n",
    "print(insertionSort(arr))\n",
    "print(findMax(arr))"
   ]
  },
  {
   "cell_type": "markdown",
   "metadata": {},
   "source": [
    "Prime Check"
   ]
  },
  {
   "cell_type": "code",
   "execution_count": null,
   "metadata": {},
   "outputs": [],
   "source": [
    "def isPrime_slow(n):\n",
    "    \n",
    "    divCount=0\n",
    "    if n<=1:\n",
    "        return False, divCount\n",
    "\n",
    "    for i in range(2,n):\n",
    "        divCount+=1\n",
    "        if n%i==0:\n",
    "            return False, divCount\n",
    "    return True, divCount\n",
    "\n",
    "print(isPrime_slow(2))\n",
    "print(isPrime_slow(7))\n",
    "print(isPrime_slow(1))\n",
    "print(isPrime_slow(6))"
   ]
  },
  {
   "cell_type": "code",
   "execution_count": null,
   "metadata": {},
   "outputs": [],
   "source": [
    "def isPrime_partiallyOptimized(n):\n",
    "\n",
    "    divCount=0\n",
    "    if n<=1:\n",
    "        return False, divCount\n",
    "\n",
    "    for i in range(2,n//2+1):\n",
    "        divCount+=1\n",
    "        if n%i==0:\n",
    "            return False, divCount\n",
    "    return True, divCount\n",
    "\n",
    "print(isPrime_partiallyOptimized(2))\n",
    "print(isPrime_partiallyOptimized(11))\n",
    "print(isPrime_partiallyOptimized(32))\n",
    "print(isPrime_partiallyOptimized(6))"
   ]
  },
  {
   "cell_type": "code",
   "execution_count": null,
   "metadata": {},
   "outputs": [],
   "source": [
    "import math\n",
    "\n",
    "def isPrime_fullyOptimized(n):\n",
    "    divCount=0\n",
    "    if n<=1:\n",
    "        return False, divCount\n",
    "\n",
    "    for i in range(2,int(math.sqrt(n))+1):\n",
    "        divCount+=1\n",
    "        if n%i==0:\n",
    "            return False, divCount\n",
    "    return True, divCount\n",
    "\n",
    "print(isPrime_fullyOptimized(2))\n",
    "print(isPrime_fullyOptimized(13))\n",
    "print(isPrime_fullyOptimized(36))\n",
    "print(isPrime_fullyOptimized(6))"
   ]
  },
  {
   "cell_type": "markdown",
   "metadata": {},
   "source": [
    "Binary Search"
   ]
  },
  {
   "cell_type": "code",
   "execution_count": 3,
   "metadata": {},
   "outputs": [
    {
     "name": "stdout",
     "output_type": "stream",
     "text": [
      "6\n",
      "None\n"
     ]
    }
   ],
   "source": [
    "def binarySearch(arr, low, high, key):\n",
    "\n",
    "    if high >= low:\n",
    "        mid = (high+low)//2\n",
    "\n",
    "        if arr[mid] == key:\n",
    "            return mid\n",
    "        elif arr[mid]<key:\n",
    "            return binarySearch(arr, mid+1, high, key )\n",
    "        else:\n",
    "            return binarySearch(arr, low, mid-1, key)\n",
    "    else:\n",
    "        return None\n",
    "\n",
    "sorted_array = [1, 2, 3, 4, 5, 6, 7, 8, 9, 10]\n",
    "result = print(binarySearch(sorted_array, 0, len(sorted_array) - 1, 7))\n",
    "result = print(binarySearch(sorted_array, 0, len(sorted_array) - 1, 13))\n"
   ]
  },
  {
   "cell_type": "markdown",
   "metadata": {},
   "source": [
    "Powering a number - FAST\n"
   ]
  },
  {
   "cell_type": "code",
   "execution_count": 2,
   "metadata": {},
   "outputs": [
    {
     "name": "stdout",
     "output_type": "stream",
     "text": [
      "8\n",
      "64\n"
     ]
    }
   ],
   "source": [
    "def power(a,b):\n",
    "    if b==0:\n",
    "        return 1\n",
    "    elif b%2==0:\n",
    "        x=power(a,b//2)\n",
    "        return x*x\n",
    "    else:\n",
    "        x=power(a,b//2)\n",
    "        return x*x*a\n",
    "\n",
    "print(power(2,3))\n",
    "print(power(2,6))"
   ]
  },
  {
   "cell_type": "code",
   "execution_count": 22,
   "metadata": {},
   "outputs": [
    {
     "name": "stdout",
     "output_type": "stream",
     "text": [
      "2\n"
     ]
    }
   ],
   "source": [
    "def findMax(numbers, start, end):\n",
    "    if start == end:\n",
    "        return start\n",
    "    else:\n",
    "        mid = (start + end) // 2\n",
    "        right = findMax(numbers, mid + 1, end)\n",
    "        left = findMax(numbers, start, mid)\n",
    "        return left if numbers[left] >= numbers[right] else right\n",
    "\n",
    "arr = [3, 5, 8, 1, 2]\n",
    "print(findMax(arr, 0, len(arr) - 1))\n"
   ]
  },
  {
   "cell_type": "code",
   "execution_count": 1,
   "metadata": {},
   "outputs": [
    {
     "name": "stdout",
     "output_type": "stream",
     "text": [
      "DFS traversal starting from node 0:\n",
      "0 1 3 2 "
     ]
    }
   ],
   "source": [
    "class Graph:\n",
    "    def __init__(self):\n",
    "        self.adj_list = {}\n",
    "\n",
    "    def add_edge(self, u, v):\n",
    "        if u not in self.adj_list:\n",
    "            self.adj_list[u] = []\n",
    "        self.adj_list[u].append(v)\n",
    "\n",
    "        if v not in self.adj_list:\n",
    "            self.adj_list[v] = []\n",
    "        self.adj_list[v].append(u)\n",
    "\n",
    "    def dfs(self, start_node):\n",
    "        stack = [start_node]\n",
    "        visited = set()\n",
    "\n",
    "        while stack:\n",
    "            current_node = stack.pop()\n",
    "            if current_node not in visited:\n",
    "                print(current_node, end=' ')\n",
    "                visited.add(current_node)\n",
    "                neighbors = self.adj_list.get(current_node, [])\n",
    "                for neighbor in reversed(neighbors):  # Explore neighbors in reverse order\n",
    "                    if neighbor not in visited:\n",
    "                        stack.append(neighbor)\n",
    "\n",
    "\n",
    "# Creating a graph\n",
    "g = Graph()\n",
    "g.add_edge(0, 1)\n",
    "g.add_edge(0, 2)\n",
    "g.add_edge(1, 3)\n",
    "g.add_edge(2, 3)\n",
    "g.add_edge(4, 5)\n",
    "\n",
    "# Performing DFS starting from node 0\n",
    "print(\"DFS traversal starting from node 0:\")\n",
    "g.dfs(0)\n"
   ]
  }
 ],
 "metadata": {
  "kernelspec": {
   "display_name": "Python 3",
   "language": "python",
   "name": "python3"
  },
  "language_info": {
   "codemirror_mode": {
    "name": "ipython",
    "version": 3
   },
   "file_extension": ".py",
   "mimetype": "text/x-python",
   "name": "python",
   "nbconvert_exporter": "python",
   "pygments_lexer": "ipython3",
   "version": "3.11.9"
  }
 },
 "nbformat": 4,
 "nbformat_minor": 2
}
