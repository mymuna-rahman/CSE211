{
 "cells": [
  {
   "cell_type": "markdown",
   "metadata": {},
   "source": [
    "Insertion Sort"
   ]
  },
  {
   "cell_type": "code",
   "execution_count": 7,
   "metadata": {},
   "outputs": [
    {
     "name": "stdout",
     "output_type": "stream",
     "text": [
      "[1, 2, 3, 4, 5, 6]\n",
      "6\n"
     ]
    }
   ],
   "source": [
    "def insertionSort(arr):\n",
    "    n=len(arr)\n",
    "\n",
    "    for j in range(1, n):\n",
    "        key=arr[j]\n",
    "\n",
    "        i=j-1\n",
    "        while i>=0 and key<arr[i]:\n",
    "            arr[i+1]=arr[i]\n",
    "            i-=1\n",
    "        arr[i+1]=key\n",
    "\n",
    "    return arr\n",
    "\n",
    "def findMax(arr):\n",
    "    insertionSort(arr)\n",
    "    return arr[-1]\n",
    "\n",
    "arr=[5,2,4,1,6,3]\n",
    "print(insertionSort(arr))\n",
    "print(findMax(arr))"
   ]
  }
 ],
 "metadata": {
  "kernelspec": {
   "display_name": "Python 3",
   "language": "python",
   "name": "python3"
  },
  "language_info": {
   "codemirror_mode": {
    "name": "ipython",
    "version": 3
   },
   "file_extension": ".py",
   "mimetype": "text/x-python",
   "name": "python",
   "nbconvert_exporter": "python",
   "pygments_lexer": "ipython3",
   "version": "3.11.8"
  }
 },
 "nbformat": 4,
 "nbformat_minor": 2
}
