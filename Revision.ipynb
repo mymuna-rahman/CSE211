{
 "cells": [
  {
   "cell_type": "markdown",
   "metadata": {},
   "source": [
    "Insertion Sort"
   ]
  },
  {
   "cell_type": "code",
   "execution_count": 7,
   "metadata": {},
   "outputs": [
    {
     "name": "stdout",
     "output_type": "stream",
     "text": [
      "[1, 2, 3, 4, 5, 6]\n",
      "6\n"
     ]
    }
   ],
   "source": [
    "def insertionSort(arr):\n",
    "    n=len(arr)\n",
    "\n",
    "    for j in range(1, n):\n",
    "        key=arr[j]\n",
    "\n",
    "        i=j-1\n",
    "        while i>=0 and key<arr[i]:\n",
    "            arr[i+1]=arr[i]\n",
    "            i-=1\n",
    "        arr[i+1]=key\n",
    "\n",
    "    return arr\n",
    "\n",
    "def findMax(arr):\n",
    "    insertionSort(arr)\n",
    "    return arr[-1]\n",
    "\n",
    "arr=[5,2,4,1,6,3]\n",
    "print(insertionSort(arr))\n",
    "print(findMax(arr))"
   ]
  },
  {
   "cell_type": "markdown",
   "metadata": {},
   "source": [
    "Prime Check"
   ]
  },
  {
   "cell_type": "code",
   "execution_count": 13,
   "metadata": {},
   "outputs": [
    {
     "name": "stdout",
     "output_type": "stream",
     "text": [
      "(True, 0)\n",
      "(True, 5)\n",
      "(False, 0)\n",
      "(False, 1)\n"
     ]
    }
   ],
   "source": [
    "def isPrime_slow(n):\n",
    "    \n",
    "    divCount=0\n",
    "    if n<=1:\n",
    "        return False, divCount\n",
    "\n",
    "    for i in range(2,n):\n",
    "        divCount+=1\n",
    "        if n%i==0:\n",
    "            return False, divCount\n",
    "    return True, divCount\n",
    "\n",
    "print(isPrime_slow(2))\n",
    "print(isPrime_slow(7))\n",
    "print(isPrime_slow(1))\n",
    "print(isPrime_slow(6))"
   ]
  },
  {
   "cell_type": "code",
   "execution_count": 20,
   "metadata": {},
   "outputs": [
    {
     "name": "stdout",
     "output_type": "stream",
     "text": [
      "(True, 0)\n",
      "(True, 4)\n",
      "(False, 1)\n",
      "(False, 1)\n"
     ]
    }
   ],
   "source": [
    "def isPrime_partiallyOptimized(n):\n",
    "\n",
    "    divCount=0\n",
    "    if n<=1:\n",
    "        return False, divCount\n",
    "\n",
    "    for i in range(2,n//2+1):\n",
    "        divCount+=1\n",
    "        if n%i==0:\n",
    "            return False, divCount\n",
    "    return True, divCount\n",
    "\n",
    "print(isPrime_partiallyOptimized(2))\n",
    "print(isPrime_partiallyOptimized(11))\n",
    "print(isPrime_partiallyOptimized(32))\n",
    "print(isPrime_partiallyOptimized(6))"
   ]
  },
  {
   "cell_type": "code",
   "execution_count": 19,
   "metadata": {},
   "outputs": [
    {
     "name": "stdout",
     "output_type": "stream",
     "text": [
      "(True, 0)\n",
      "(True, 2)\n",
      "(False, 1)\n",
      "(False, 1)\n"
     ]
    }
   ],
   "source": [
    "import math\n",
    "\n",
    "def isPrime_fullyOptimized(n):\n",
    "    divCount=0\n",
    "    if n<=1:\n",
    "        return False, divCount\n",
    "\n",
    "    for i in range(2,int(math.sqrt(n))+1):\n",
    "        divCount+=1\n",
    "        if n%i==0:\n",
    "            return False, divCount\n",
    "    return True, divCount\n",
    "\n",
    "print(isPrime_fullyOptimized(2))\n",
    "print(isPrime_fullyOptimized(13))\n",
    "print(isPrime_fullyOptimized(36))\n",
    "print(isPrime_fullyOptimized(6))"
   ]
  },
  {
   "cell_type": "markdown",
   "metadata": {},
   "source": [
    "Binary Search"
   ]
  },
  {
   "cell_type": "code",
   "execution_count": 23,
   "metadata": {},
   "outputs": [
    {
     "name": "stdout",
     "output_type": "stream",
     "text": [
      "6\n",
      "None\n"
     ]
    }
   ],
   "source": [
    "def binarySearch(arr, low, high, key):\n",
    "\n",
    "    if high >= low:\n",
    "        mid = (high+low)//2\n",
    "\n",
    "        if arr[mid] == key:\n",
    "            return mid\n",
    "        elif arr[mid]<key:\n",
    "            return binarySearch(arr, mid+1, high, key )\n",
    "        else:\n",
    "            return binarySearch(arr, low, mid-1, key)\n",
    "    else:\n",
    "        return None\n",
    "\n",
    "sorted_array = [1, 2, 3, 4, 5, 6, 7, 8, 9, 10]\n",
    "result = print(binarySearch(sorted_array, 0, len(sorted_array) - 1, 7))\n",
    "result = print(binarySearch(sorted_array, 0, len(sorted_array) - 1, 13))\n"
   ]
  }
 ],
 "metadata": {
  "kernelspec": {
   "display_name": "Python 3",
   "language": "python",
   "name": "python3"
  },
  "language_info": {
   "codemirror_mode": {
    "name": "ipython",
    "version": 3
   },
   "file_extension": ".py",
   "mimetype": "text/x-python",
   "name": "python",
   "nbconvert_exporter": "python",
   "pygments_lexer": "ipython3",
   "version": "3.11.8"
  }
 },
 "nbformat": 4,
 "nbformat_minor": 2
}
